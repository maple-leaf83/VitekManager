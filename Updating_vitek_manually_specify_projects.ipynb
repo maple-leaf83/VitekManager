{
 "cells": [
  {
   "cell_type": "code",
   "execution_count": 13,
   "id": "4d7f0782",
   "metadata": {},
   "outputs": [
    {
     "name": "stdout",
     "output_type": "stream",
     "text": [
      "Number of Isolates =  907\n"
     ]
    }
   ],
   "source": [
    "import pandas as pd\n",
    "\n",
    "\"\"\"TODO: change filename to Metadata file in project of interest\"\"\"\n",
    "meta = pd.read_csv('Metadata KPNALF_Other.csv')\n",
    "print(\"Number of Isolates = \", len(meta))"
   ]
  },
  {
   "cell_type": "code",
   "execution_count": 18,
   "id": "41ef2050",
   "metadata": {},
   "outputs": [
    {
     "name": "stdout",
     "output_type": "stream",
     "text": [
      "Number of Isolates =  907\n"
     ]
    }
   ],
   "source": [
    "\"\"\"TODO: change filename to Vitek file in project of interest\"\"\"\n",
    "vt = pd.read_csv('Vitek KPNALF_Other.csv')\n",
    "print(\"Number of Isolates = \", len(vt))"
   ]
  },
  {
   "cell_type": "code",
   "execution_count": 6,
   "id": "df84c691",
   "metadata": {},
   "outputs": [
    {
     "name": "stdout",
     "output_type": "stream",
     "text": [
      "33501\n"
     ]
    }
   ],
   "source": [
    "\"\"\" Note: This section relates the names of the drugs in the Vitek results to the drug names in the database\"\"\"\n",
    "\n",
    "vt_dict = {'Testing Date': 'vitek_date',\n",
    "               'AM-Ampicillin': 'Ampicillin (AMP)',\n",
    "               'AMC-Amoxicillin/Clavulanic Acid': 'Amoxicillin/Clavulanic (AUG)',\n",
    "               'AN-Amikacin': 'Amikacin (AMK)',\n",
    "               'CAZ-Ceftazidime': 'Ceftazidime (CAZ)',\n",
    "               'CIP-Ciprofloxacin': 'Ciprofloxacin (CIP)',\n",
    "               'CRO-Ceftriaxone': 'Ceftriaxone (CRO)',\n",
    "               'CZ-Cefazolin': 'Cefazolin (CFZ)',\n",
    "               'FEP-Cefepime': 'Cefepime (FEP)',\n",
    "               'FOX-Cefoxitin': 'Cefoxitin (CFX)',\n",
    "               'FT-Nitrofurantoin': 'Nitrofurantoin (NIT) ',\n",
    "               'GM-Gentamicin': 'Gentamicin (GEN)',\n",
    "               'MEM-Meropenem': 'Meropenem (MEM)',\n",
    "               'NOR-Norfloxacin': 'Norfloxacin (NOR)',\n",
    "               'SXT-Trimethoprim/Sulfamethoxazole': 'Trimethoprim/Sulfamethoxazole (SXT)',\n",
    "               'TCC-Ticarcillin/Clavulanic Acid': 'Ticarcillin/Clavulanic acid (TIM)',\n",
    "               'TM-Tobramycin': 'Tobramycin (TOB)',\n",
    "               'TMP-Trimethoprim': 'Trimethoprim (TMP)',\n",
    "               'TZP-Piperacillin/Tazobactam': 'Piperacillin/Tazobactam (PTZ)',\n",
    "               'P-Benzylpenicillin': 'Benzylpenicillin',\n",
    "               'OXSF-Cefoxitin Screen': 'Cefoxitin Screen',\n",
    "               'CM-Clindamycin': 'Clindamycin',\n",
    "               'DAP-Daptomycin': 'Daptomycin',\n",
    "               'E-Erythromycin': 'Erythromycin',\n",
    "               'FA-Fusidic Acid': 'Fusidic Acid',\n",
    "               'ICR-Inducible Clindamycin Resistance': 'Inducable Clindamycin Resistance',\n",
    "               'LNZ-Linezolid': 'Linezolid',\n",
    "               'MUP-Mupirocin': 'Mupirocin',\n",
    "               'OX1-Oxacillin': 'Oxacillin',\n",
    "               'RA-Rifampicin': 'Rifampicin',\n",
    "               'TEC-Teicoplanin': 'Teicoplanin',\n",
    "               'TE-Tetracycline': 'Tetracycline',\n",
    "               'VA-Vancomycin': 'Vancomycin'\n",
    "               }\n",
    "\n"
   ]
  },
  {
   "cell_type": "code",
   "execution_count": null,
   "id": "77ea0bbc",
   "metadata": {},
   "outputs": [],
   "source": [
    "\"\"\" Note: The organism dictionary is important!! Abbreviated names in vitek results do not match \n",
    "            names in the database and finding the correct results when multiple swabs/bugs are detected\n",
    "            can become difficult/impossible\n",
    "\"\"\"\n",
    "org_dict = pd.read_excel('organism_dictionary_finalised.xlsx')\n",
    "org_dict['Vitek name 1'] = org_dict['Vitek name 1'].str.lstrip()\n",
    "org_dict['Vitek name 2'] = org_dict['Vitek name 2'].str.lstrip()\n",
    "org_dict['Vitek name 3'] = org_dict['Vitek name 3'].str.lstrip()\n",
    "org_dict['Vitek name 4'] = org_dict['Vitek name 4'].str.lstrip()\n"
   ]
  },
  {
   "cell_type": "code",
   "execution_count": null,
   "id": "e90d9099",
   "metadata": {},
   "outputs": [],
   "source": [
    "\"\"\" Read most recent library file with Vitek results\"\"\"\n",
    "df_vitek = pd.read_excel('Vitek_Library_2017_Jun2021.xlsx')\n",
    "print(len(df_vitek))"
   ]
  },
  {
   "cell_type": "code",
   "execution_count": 19,
   "id": "343422fd",
   "metadata": {},
   "outputs": [],
   "source": [
    "\"\"\" This function does the actual mapping from vitek results to the database format \"\"\"\n",
    "\n",
    "def map_vitek_template(df_vitek, meta, vitek, org_dict, vt_dict, outfile):\n",
    "    vt_template = vitek\n",
    "\n",
    "    print(\"Beginning to search and assign vitek records\")\n",
    "    for i, row in vt_template.iterrows():\n",
    "        if row['data'] == 'Yes' or row['data'] == 'Yes updated':\n",
    "            continue\n",
    "        \n",
    "#         print(row['tube_code'])\n",
    "        acc = meta.loc[(meta['tube_code'] == row['tube_code']), 'ID_number']\n",
    "        \"\"\" Accession number if needed to find the vitek result\"\"\"\n",
    "        if acc.isnull().any():\n",
    "            vt_template.loc[i, 'data'] = 'No'\n",
    "            print(row['tube_code'], 'no accession number')\n",
    "            continue\n",
    "        \n",
    "        acn = acc.values[0]\n",
    "        acn = int(acn.replace('-', ''))\n",
    "        t_acn_match = df_vitek.loc[(df_vitek['Lab ID'] == acn)]\n",
    "        ##first look for an matching accession number\n",
    "        if len(t_acn_match) == 0:\n",
    "            vt_template.loc[i, 'data'] = 'No'\n",
    "            print(row['tube_code'], \"No matching found in vitek records\")\n",
    "            continue\n",
    "        \n",
    "        org_name = meta.loc[(meta['tube_code'] == row['tube_code']), 'species_reported'].values[0]\n",
    "        org_genus = org_name.split()[0]\n",
    "        \"\"\" Find match to exact organism but also just the genus\"\"\"\n",
    "        match_organisms = org_dict.loc[org_dict['IsolName'].str.match(org_name), :].dropna(axis=1).values.tolist()\n",
    "        match_genus = org_dict.loc[org_dict['IsolName'].str.match(org_genus), :].dropna(axis=1).values.tolist()\n",
    "\n",
    "        \"\"\" if you find nothing, you're shit outta luck\"\"\"\n",
    "        if len(match_organisms) == 0 and len(match_genus) == 0:\n",
    "            if len(t_acn_match) > 0:\n",
    "                print(row['tube_code'], org_name, ' no match found in org dictionary')\n",
    "                print(\"But there is an ACN match\", t_acn_match.loc[:, 'Organism Name'])\n",
    "            continue\n",
    "\n",
    "#         print(\"Orgs len = \", match_organisms)\n",
    "#         print(\"genus = \", match_genus)\n",
    "        \"\"\" let's see if there are exact matches or just matches to genus\"\"\"\n",
    "        t_exact_match = []\n",
    "        t_genus_match = []\n",
    "        if len(match_organisms) > 0:\n",
    "            match_organisms = match_organisms[0][1:]\n",
    "            t_exact_match = df_vitek.loc[(df_vitek['Lab ID'] == acn) &\n",
    "                                         (df_vitek['Organism Name'].isin(list(match_organisms)))]\n",
    "        if len(match_genus) > 0:\n",
    "            match_genus = match_genus[0][1:]\n",
    "            t_genus_match = df_vitek.loc[(df_vitek['Lab ID'] == acn) &\n",
    "                                         (df_vitek['Organism Name'].isin(list(match_genus)))]\n",
    "#             print(t_genus_match)\n",
    "\n",
    "        if len(t_exact_match) == 0 and len(t_genus_match) == 0:\n",
    "            # no record found\n",
    "            vt_template.loc[i, 'data'] = 'No'\n",
    "            print(acn, 'no record found')\n",
    "            continue\n",
    "        elif len(t_exact_match) == 1:\n",
    "            print(row['tube_code'], \" one record found\")\n",
    "            vt_template.loc[i, 'data'] = 'Yes'\n",
    "            vt_template.loc[i, 'vitek_run'] = 'Alfred'\n",
    "            for j in vt_dict.keys():\n",
    "                if j == 'Testing Date':\n",
    "                    vt_template.loc[i, vt_dict[j]] = t_exact_match.loc[:, j].dt.strftime('%Y-%m-%d').values[0]\n",
    "                else:\n",
    "                    vt_template.loc[i, vt_dict[j]] = t_exact_match.loc[:, j].values[0]\n",
    "        elif len(t_genus_match) == 1:\n",
    "            print(row['tube_code'], \" one record found\")\n",
    "            vt_template.loc[i, 'data'] = 'Yes'\n",
    "            vt_template.loc[i, 'vitek_run'] = 'Alfred'\n",
    "            for j in vt_dict.keys():\n",
    "                vt_template.loc[i, vt_dict[j]] = t_genus_match.loc[:, j].values[0]\n",
    "        elif len(t_exact_match) > 1:\n",
    "            print(row['tube_code'], \" > 1 record found\")\n",
    "            \"\"\" find the index where Testing Date is max\"\"\"\n",
    "            key_index = t_exact_match.index[t_exact_match['Testing Date'].argmax()]\n",
    "\n",
    "            vt_template.loc[i, 'data'] = 'Yes Updated'\n",
    "            vt_template.loc[i, 'vitek_run'] = 'Alfred'\n",
    "            for j in vt_dict.keys():\n",
    "                if j.find('Testing Date') > -1:\n",
    "                    vt_template.loc[i, vt_dict[j]] = t_exact_match.loc[key_index, j].strftime('%Y-%m-%d')\n",
    "                else:\n",
    "                    vt_template.loc[i, vt_dict[j]] = t_exact_match.loc[key_index, j]\n",
    "        elif len(t_genus_match) >= 1:\n",
    "            print(row['tube_code'], \" > 1 record found\")\n",
    "            key_index = t_genus_match.index[t_genus_match['Testing Date'].argmax()]\n",
    "            \"\"\" find the index where Testing Date is a match\"\"\"\n",
    "            vt_template.loc[i, 'data'] = 'Yes Updated'\n",
    "            vt_template.loc[i, 'vitek_run'] = 'Alfred'\n",
    "            for j in vt_dict.keys():\n",
    "                if j.find('Testing Date') > -1:\n",
    "                    vt_template.loc[i, vt_dict[j]] = t_genus_match.loc[key_index, j].strftime('%Y-%m-%d')\n",
    "                else:\n",
    "                    vt_template.loc[i, vt_dict[j]] = t_genus_match.loc[key_index, j]\n",
    "    print(\"Done.\")\n",
    "    vt_template.to_csv(outfile, index=False)\n",
    "    return vt_template\n",
    "\n",
    "\n",
    "\"\"\" TODO: Remember to change the name of the output file!\"\"\"\n",
    "outfile_vt = 'Vitek_KPNALF_Other' + 'temp' + '.csv'\n",
    "vt_template = map_vitek_template(df_vitek, meta, vt, org_dict, \n",
    "                                 vt_dict, outfile_vt)"
   ]
  }
 ],
 "metadata": {
  "kernelspec": {
   "display_name": "Python 3",
   "language": "python",
   "name": "python3"
  },
  "language_info": {
   "codemirror_mode": {
    "name": "ipython",
    "version": 3
   },
   "file_extension": ".py",
   "mimetype": "text/x-python",
   "name": "python",
   "nbconvert_exporter": "python",
   "pygments_lexer": "ipython3",
   "version": "3.7.10"
  }
 },
 "nbformat": 4,
 "nbformat_minor": 5
}
