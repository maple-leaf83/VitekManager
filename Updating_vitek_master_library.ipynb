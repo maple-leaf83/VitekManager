{
 "cells": [
  {
   "cell_type": "markdown",
   "id": "4e9bf298",
   "metadata": {},
   "source": [
    "Read the current xlsx file containing all Vitek results and append most recent results to it "
   ]
  },
  {
   "cell_type": "code",
   "execution_count": null,
   "id": "df84c691",
   "metadata": {},
   "outputs": [],
   "source": [
    "import pandas as pd\n",
    "df_vitek = pd.read_excel('Vitek_Library_2017_to_Mar2021.xlsx')\n",
    "print(\"Number of vitek records = \", len(df_vitek))"
   ]
  },
  {
   "cell_type": "code",
   "execution_count": null,
   "id": "dbab39f6",
   "metadata": {},
   "outputs": [],
   "source": [
    "\"\"\" To do: \n",
    "        1. change the name of the file with the most recent vitek results \n",
    "        (that need to be added to the library file)\n",
    "        2. Check on the type of separator in the file (comma or tabs). Use sep=',' for commas and sep='\\t' for tabs\n",
    "        3. change name of updated library file\n",
    "\"\"\"\n",
    "\n",
    "vt_update = pd.read_csv('/Users/bantony/Data/Vitek/Clin Micro/2021/Vitek Apri-Jun 2021.txt', sep=',')\n",
    "print(len(vt_update))\n",
    "\n",
    "\"\"\" note: if you run into errors with the date format (error will indicate what format the date is in), \n",
    "        uncomment following line \n",
    "\"\"\"\n",
    "# vt_update['Testing Date'] = pd.to_datetime(vt_update['Testing Date'], format='%d/%m/%y')\n",
    "vt_update['Testing Date'] = pd.to_datetime(vt_update['Testing Date'], format='%Y/%m/%d')\n",
    "\n",
    "df_vitek = df_vitek.append(vt_update)\n",
    "print(len(df_vitek))\n",
    "\n",
    "df_vitek.to_excel('Vitek_Library_2017_Jun2021.xlsx', index=False)"
   ]
  }
 ],
 "metadata": {
  "kernelspec": {
   "display_name": "Python 3",
   "language": "python",
   "name": "python3"
  },
  "language_info": {
   "codemirror_mode": {
    "name": "ipython",
    "version": 3
   },
   "file_extension": ".py",
   "mimetype": "text/x-python",
   "name": "python",
   "nbconvert_exporter": "python",
   "pygments_lexer": "ipython3",
   "version": "3.7.10"
  }
 },
 "nbformat": 4,
 "nbformat_minor": 5
}
